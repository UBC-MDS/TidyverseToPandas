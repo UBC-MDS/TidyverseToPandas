{
    "cells": [
        {
            "cell_type": "markdown",
            "metadata": {},
            "source": [
                "# Simple Example usage\n",
                "\n",
                "The `tidyversetopandas` package brings the familiar syntax of R's tidyverse to Python's pandas library, making it an invaluable tool for data scientists and analysts who are transitioning from R to Python. This documentation provides a real-life example demonstrating how to use the key functions of `tidyversetopandas`, including `mutate`, `filter`, `select`, and `arrange`.\n"
            ]
        },
        {
            "cell_type": "markdown",
            "metadata": {},
            "source": [
                "### Getting Started\n",
                "\n",
                "First, ensure that `tidyversetopandas` is installed and imported alongside pandas:\n"
            ]
        },
        {
            "cell_type": "code",
            "execution_count": 1,
            "metadata": {},
            "outputs": [],
            "source": [
                "# Import necessary packages\n",
                "import pandas as pd\n",
                "from tidyversetopandas import tidyversetopandas as ttp"
            ]
        },
        {
            "cell_type": "markdown",
            "metadata": {},
            "source": [
                "### Example Data\n",
                "\n",
                "We will use a sample dataset representing sales data for illustration. Let's create a pandas DataFrame:\n"
            ]
        },
        {
            "cell_type": "code",
            "execution_count": 7,
            "metadata": {},
            "outputs": [
                {
                    "name": "stdout",
                    "output_type": "stream",
                    "text": [
                        "Initial DataFrame:\n"
                    ]
                },
                {
                    "data": {
                        "text/html": [
                            "<div>\n",
                            "<style scoped>\n",
                            "    .dataframe tbody tr th:only-of-type {\n",
                            "        vertical-align: middle;\n",
                            "    }\n",
                            "\n",
                            "    .dataframe tbody tr th {\n",
                            "        vertical-align: top;\n",
                            "    }\n",
                            "\n",
                            "    .dataframe thead th {\n",
                            "        text-align: right;\n",
                            "    }\n",
                            "</style>\n",
                            "<table border=\"1\" class=\"dataframe\">\n",
                            "  <thead>\n",
                            "    <tr style=\"text-align: right;\">\n",
                            "      <th></th>\n",
                            "      <th>ProductID</th>\n",
                            "      <th>Sales</th>\n",
                            "      <th>Region</th>\n",
                            "    </tr>\n",
                            "  </thead>\n",
                            "  <tbody>\n",
                            "    <tr>\n",
                            "      <th>0</th>\n",
                            "      <td>101</td>\n",
                            "      <td>250</td>\n",
                            "      <td>East</td>\n",
                            "    </tr>\n",
                            "    <tr>\n",
                            "      <th>1</th>\n",
                            "      <td>102</td>\n",
                            "      <td>150</td>\n",
                            "      <td>West</td>\n",
                            "    </tr>\n",
                            "    <tr>\n",
                            "      <th>2</th>\n",
                            "      <td>103</td>\n",
                            "      <td>300</td>\n",
                            "      <td>East</td>\n",
                            "    </tr>\n",
                            "    <tr>\n",
                            "      <th>3</th>\n",
                            "      <td>104</td>\n",
                            "      <td>200</td>\n",
                            "      <td>South</td>\n",
                            "    </tr>\n",
                            "  </tbody>\n",
                            "</table>\n",
                            "</div>"
                        ],
                        "text/plain": [
                            "   ProductID  Sales Region\n",
                            "0        101    250   East\n",
                            "1        102    150   West\n",
                            "2        103    300   East\n",
                            "3        104    200  South"
                        ]
                    },
                    "execution_count": 7,
                    "metadata": {},
                    "output_type": "execute_result"
                }
            ],
            "source": [
                "# Sample data\n",
                "data = {\n",
                "    \"ProductID\": [101, 102, 103, 104],\n",
                "    \"Sales\": [250, 150, 300, 200],\n",
                "    \"Region\": [\"East\", \"West\", \"East\", \"South\"],\n",
                "}\n",
                "df = pd.DataFrame(data)\n",
                "\n",
                "# Display the initial DataFrame\n",
                "print(\"Initial DataFrame:\")\n",
                "df"
            ]
        },
        {
            "cell_type": "markdown",
            "metadata": {},
            "source": [
                "### Using `tidyversetopandas`\n",
                "\n",
                "##### 1. Mutate: Adding and Modifying Columns\n",
                "\n",
                "Suppose we want to calculate the VAT (Value Added Tax) for each sale, assuming a flat rate of 15%. We can use the mutate function to add this new column:\n"
            ]
        },
        {
            "cell_type": "code",
            "execution_count": 8,
            "metadata": {},
            "outputs": [
                {
                    "name": "stdout",
                    "output_type": "stream",
                    "text": [
                        "\n",
                        "DataFrame after applying 'mutate':\n"
                    ]
                },
                {
                    "data": {
                        "text/html": [
                            "<div>\n",
                            "<style scoped>\n",
                            "    .dataframe tbody tr th:only-of-type {\n",
                            "        vertical-align: middle;\n",
                            "    }\n",
                            "\n",
                            "    .dataframe tbody tr th {\n",
                            "        vertical-align: top;\n",
                            "    }\n",
                            "\n",
                            "    .dataframe thead th {\n",
                            "        text-align: right;\n",
                            "    }\n",
                            "</style>\n",
                            "<table border=\"1\" class=\"dataframe\">\n",
                            "  <thead>\n",
                            "    <tr style=\"text-align: right;\">\n",
                            "      <th></th>\n",
                            "      <th>ProductID</th>\n",
                            "      <th>Sales</th>\n",
                            "      <th>Region</th>\n",
                            "      <th>VAT</th>\n",
                            "    </tr>\n",
                            "  </thead>\n",
                            "  <tbody>\n",
                            "    <tr>\n",
                            "      <th>0</th>\n",
                            "      <td>101</td>\n",
                            "      <td>250</td>\n",
                            "      <td>East</td>\n",
                            "      <td>37.5</td>\n",
                            "    </tr>\n",
                            "    <tr>\n",
                            "      <th>1</th>\n",
                            "      <td>102</td>\n",
                            "      <td>150</td>\n",
                            "      <td>West</td>\n",
                            "      <td>22.5</td>\n",
                            "    </tr>\n",
                            "    <tr>\n",
                            "      <th>2</th>\n",
                            "      <td>103</td>\n",
                            "      <td>300</td>\n",
                            "      <td>East</td>\n",
                            "      <td>45.0</td>\n",
                            "    </tr>\n",
                            "    <tr>\n",
                            "      <th>3</th>\n",
                            "      <td>104</td>\n",
                            "      <td>200</td>\n",
                            "      <td>South</td>\n",
                            "      <td>30.0</td>\n",
                            "    </tr>\n",
                            "  </tbody>\n",
                            "</table>\n",
                            "</div>"
                        ],
                        "text/plain": [
                            "   ProductID  Sales Region   VAT\n",
                            "0        101    250   East  37.5\n",
                            "1        102    150   West  22.5\n",
                            "2        103    300   East  45.0\n",
                            "3        104    200  South  30.0"
                        ]
                    },
                    "execution_count": 8,
                    "metadata": {},
                    "output_type": "execute_result"
                }
            ],
            "source": [
                "# Adding a new column for VAT\n",
                "df = ttp.mutate(df, \"VAT = Sales * 0.15\")\n",
                "\n",
                "print(\"\\nDataFrame after applying 'mutate':\")\n",
                "df"
            ]
        },
        {
            "cell_type": "markdown",
            "metadata": {},
            "source": [
                "##### 2. Filter: Row-wise Filtering\n",
                "\n",
                "If we need to filter the data to include only sales greater than $200, filter comes in handy:\n"
            ]
        },
        {
            "cell_type": "code",
            "execution_count": 9,
            "metadata": {},
            "outputs": [
                {
                    "name": "stdout",
                    "output_type": "stream",
                    "text": [
                        "\n",
                        "DataFrame after applying 'filter':\n"
                    ]
                },
                {
                    "data": {
                        "text/html": [
                            "<div>\n",
                            "<style scoped>\n",
                            "    .dataframe tbody tr th:only-of-type {\n",
                            "        vertical-align: middle;\n",
                            "    }\n",
                            "\n",
                            "    .dataframe tbody tr th {\n",
                            "        vertical-align: top;\n",
                            "    }\n",
                            "\n",
                            "    .dataframe thead th {\n",
                            "        text-align: right;\n",
                            "    }\n",
                            "</style>\n",
                            "<table border=\"1\" class=\"dataframe\">\n",
                            "  <thead>\n",
                            "    <tr style=\"text-align: right;\">\n",
                            "      <th></th>\n",
                            "      <th>ProductID</th>\n",
                            "      <th>Sales</th>\n",
                            "      <th>Region</th>\n",
                            "      <th>VAT</th>\n",
                            "    </tr>\n",
                            "  </thead>\n",
                            "  <tbody>\n",
                            "    <tr>\n",
                            "      <th>0</th>\n",
                            "      <td>101</td>\n",
                            "      <td>250</td>\n",
                            "      <td>East</td>\n",
                            "      <td>37.5</td>\n",
                            "    </tr>\n",
                            "    <tr>\n",
                            "      <th>2</th>\n",
                            "      <td>103</td>\n",
                            "      <td>300</td>\n",
                            "      <td>East</td>\n",
                            "      <td>45.0</td>\n",
                            "    </tr>\n",
                            "  </tbody>\n",
                            "</table>\n",
                            "</div>"
                        ],
                        "text/plain": [
                            "   ProductID  Sales Region   VAT\n",
                            "0        101    250   East  37.5\n",
                            "2        103    300   East  45.0"
                        ]
                    },
                    "execution_count": 9,
                    "metadata": {},
                    "output_type": "execute_result"
                }
            ],
            "source": [
                "# Filtering rows where sales are greater than 200\n",
                "df = ttp.filter(df, \"Sales > 200\")\n",
                "print(\"\\nDataFrame after applying 'filter':\")\n",
                "df"
            ]
        },
        {
            "cell_type": "markdown",
            "metadata": {},
            "source": [
                "##### 3. Select: Choosing Specific Columns\n",
                "\n",
                "To focus on specific columns, for instance, ProductID and VAT, use the select function:\n"
            ]
        },
        {
            "cell_type": "code",
            "execution_count": 10,
            "metadata": {},
            "outputs": [
                {
                    "name": "stdout",
                    "output_type": "stream",
                    "text": [
                        "\n",
                        "DataFrame after applying 'select':\n"
                    ]
                },
                {
                    "data": {
                        "text/html": [
                            "<div>\n",
                            "<style scoped>\n",
                            "    .dataframe tbody tr th:only-of-type {\n",
                            "        vertical-align: middle;\n",
                            "    }\n",
                            "\n",
                            "    .dataframe tbody tr th {\n",
                            "        vertical-align: top;\n",
                            "    }\n",
                            "\n",
                            "    .dataframe thead th {\n",
                            "        text-align: right;\n",
                            "    }\n",
                            "</style>\n",
                            "<table border=\"1\" class=\"dataframe\">\n",
                            "  <thead>\n",
                            "    <tr style=\"text-align: right;\">\n",
                            "      <th></th>\n",
                            "      <th>ProductID</th>\n",
                            "      <th>VAT</th>\n",
                            "    </tr>\n",
                            "  </thead>\n",
                            "  <tbody>\n",
                            "    <tr>\n",
                            "      <th>0</th>\n",
                            "      <td>101</td>\n",
                            "      <td>37.5</td>\n",
                            "    </tr>\n",
                            "    <tr>\n",
                            "      <th>2</th>\n",
                            "      <td>103</td>\n",
                            "      <td>45.0</td>\n",
                            "    </tr>\n",
                            "  </tbody>\n",
                            "</table>\n",
                            "</div>"
                        ],
                        "text/plain": [
                            "   ProductID   VAT\n",
                            "0        101  37.5\n",
                            "2        103  45.0"
                        ]
                    },
                    "execution_count": 10,
                    "metadata": {},
                    "output_type": "execute_result"
                }
            ],
            "source": [
                "# Selecting specific columns\n",
                "df = ttp.select(df, \"ProductID\", \"VAT\")\n",
                "print(\"\\nDataFrame after applying 'select':\")\n",
                "df"
            ]
        },
        {
            "cell_type": "markdown",
            "metadata": {},
            "source": [
                "##### 4. Arrange: Sorting Data\n",
                "\n",
                "Finally, to sort the data based on ProductID in descending order:\n"
            ]
        },
        {
            "cell_type": "code",
            "execution_count": 11,
            "metadata": {},
            "outputs": [
                {
                    "name": "stdout",
                    "output_type": "stream",
                    "text": [
                        "\n",
                        "DataFrame after applying 'arrange':\n"
                    ]
                },
                {
                    "data": {
                        "text/html": [
                            "<div>\n",
                            "<style scoped>\n",
                            "    .dataframe tbody tr th:only-of-type {\n",
                            "        vertical-align: middle;\n",
                            "    }\n",
                            "\n",
                            "    .dataframe tbody tr th {\n",
                            "        vertical-align: top;\n",
                            "    }\n",
                            "\n",
                            "    .dataframe thead th {\n",
                            "        text-align: right;\n",
                            "    }\n",
                            "</style>\n",
                            "<table border=\"1\" class=\"dataframe\">\n",
                            "  <thead>\n",
                            "    <tr style=\"text-align: right;\">\n",
                            "      <th></th>\n",
                            "      <th>ProductID</th>\n",
                            "      <th>VAT</th>\n",
                            "    </tr>\n",
                            "  </thead>\n",
                            "  <tbody>\n",
                            "    <tr>\n",
                            "      <th>2</th>\n",
                            "      <td>103</td>\n",
                            "      <td>45.0</td>\n",
                            "    </tr>\n",
                            "    <tr>\n",
                            "      <th>0</th>\n",
                            "      <td>101</td>\n",
                            "      <td>37.5</td>\n",
                            "    </tr>\n",
                            "  </tbody>\n",
                            "</table>\n",
                            "</div>"
                        ],
                        "text/plain": [
                            "   ProductID   VAT\n",
                            "2        103  45.0\n",
                            "0        101  37.5"
                        ]
                    },
                    "execution_count": 11,
                    "metadata": {},
                    "output_type": "execute_result"
                }
            ],
            "source": [
                "# Sorting the DataFrame\n",
                "df = ttp.arrange(df, False, \"ProductID\")\n",
                "print(\"\\nDataFrame after applying 'arrange':\")\n",
                "df"
            ]
        },
        {
            "cell_type": "markdown",
            "metadata": {},
            "source": [
                "### Conclusion\n",
                "\n",
                "With these simple and intuitive functions, tidyversetopandas makes the transition from R's tidyverse to Python's pandas seamless and efficient. Whether it's data manipulation, analysis, or preparation for visualization, this package ensures a smooth and familiar workflow for R users in the Python environment.\n",
                "\n",
                "Remember, this package is in development, and more features and improvements are to be expected. For more detailed information, refer to the full documentation and the repository on GitHub.\n"
            ]
        }
    ],
    "metadata": {
        "kernelspec": {
            "display_name": "Python 3",
            "language": "python",
            "name": "python3"
        },
        "language_info": {
            "codemirror_mode": {
                "name": "ipython",
                "version": 3
            },
            "file_extension": ".py",
            "mimetype": "text/x-python",
            "name": "python",
            "nbconvert_exporter": "python",
            "pygments_lexer": "ipython3",
            "version": "3.11.7"
        }
    },
    "nbformat": 4,
    "nbformat_minor": 4
}
