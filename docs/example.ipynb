{
    "cells": [
        {
            "cell_type": "markdown",
            "metadata": {},
            "source": [
                "# Example usage\n",
                "\n",
                "The `tidyversetopandas` package brings the familiar syntax of R's tidyverse to Python's pandas library, making it an invaluable tool for data scientists and analysts who are transitioning from R to Python. This documentation provides a real-life example demonstrating how to use the key functions of `tidyversetopandas`, including `mutate`, `filter`, `select`, and `arrange`.\n"
            ]
        },
        {
            "cell_type": "markdown",
            "metadata": {},
            "source": [
                "### Getting Started\n",
                "First, ensure that `tidyversetopandas` is installed and imported alongside pandas:"
            ]
        },
        {
            "cell_type": "code",
            "execution_count": 1,
            "metadata": {},
            "outputs": [],
            "source": [
                "# Import necessary packages\n",
                "import pandas as pd\n",
                "from tidyversetopandas import tidyversetopandas as ttp"
            ]
        },
        {
            "cell_type": "markdown",
            "metadata": {},
            "source": [
                "### Example Data\n",
                "We will use a sample dataset representing sales data for illustration. Let's create a pandas DataFrame:"
            ]
        },
        {
            "cell_type": "code",
            "execution_count": 2,
            "metadata": {},
            "outputs": [],
            "source": [
                "# Sample data\n",
                "data = {\n",
                "    \"ProductID\": [101, 102, 103, 104],\n",
                "    \"Sales\": [250, 150, 300, 200],\n",
                "    \"Region\": [\"East\", \"West\", \"East\", \"South\"]\n",
                "}\n",
                "df = pd.DataFrame(data)"
            ]
        },
        {
            "cell_type": "markdown",
            "metadata": {},
            "source": [
                "### Using `tidyversetopandas`\n",
                "##### 1. Mutate: Adding and Modifying Columns\n",
                "Suppose we want to calculate the VAT (Value Added Tax) for each sale, assuming a flat rate of 15%. We can use the mutate function to add this new column:"
            ]
        },
        {
            "cell_type": "code",
            "execution_count": 3,
            "metadata": {},
            "outputs": [],
            "source": [
                "# Adding a new column for VAT\n",
                "df = ttp.mutate(df, VAT=lambda x: x[\"Sales\"] * 0.15)"
            ]
        },
        {
            "cell_type": "markdown",
            "metadata": {},
            "source": [
                "##### 2. Filter: Row-wise Filtering\n",
                "If we need to filter the data to include only sales greater than $200, filter comes in handy:"
            ]
        },
        {
            "cell_type": "code",
            "execution_count": 4,
            "metadata": {},
            "outputs": [],
            "source": [
                "# Filtering rows where sales are greater than 200\n",
                "df = ttp.filter(df, \"Sales > 200\")"
            ]
        },
        {
            "cell_type": "markdown",
            "metadata": {},
            "source": [
                "##### 3. Select: Choosing Specific Columns\n",
                "To focus on specific columns, for instance, ProductID and VAT, use the select function:"
            ]
        },
        {
            "cell_type": "code",
            "execution_count": 5,
            "metadata": {},
            "outputs": [],
            "source": [
                "# Selecting specific columns\n",
                "df = ttp.select(df, \"ProductID\", \"VAT\")"
            ]
        },
        {
            "cell_type": "markdown",
            "metadata": {},
            "source": [
                "##### 4. Arrange: Sorting Data\n",
                "Finally, to sort the data based on ProductID in descending order:"
            ]
        },
        {
            "cell_type": "code",
            "execution_count": 6,
            "metadata": {},
            "outputs": [],
            "source": [
                "# Sorting the DataFrame\n",
                "df = ttp.arrange(df, False, \"ProductID\")"
            ]
        },
        {
            "cell_type": "markdown",
            "metadata": {},
            "source": [
                "### Conclusion\n",
                "With these simple and intuitive functions, tidyversetopandas makes the transition from R's tidyverse to Python's pandas seamless and efficient. Whether it's data manipulation, analysis, or preparation for visualization, this package ensures a smooth and familiar workflow for R users in the Python environment.\n",
                "\n",
                "Remember, this package is in development, and more features and improvements are to be expected. For more detailed information, refer to the full documentation and the repository on GitHub."
            ]
        }
    ],
    "metadata": {
        "kernelspec": {
            "display_name": "Python 3",
            "language": "python",
            "name": "python3"
        },
        "language_info": {
            "codemirror_mode": {
                "name": "ipython",
                "version": 3
            },
            "file_extension": ".py",
            "mimetype": "text/x-python",
            "name": "python",
            "nbconvert_exporter": "python",
            "pygments_lexer": "ipython3",
            "version": "3.11.7"
        }
    },
    "nbformat": 4,
    "nbformat_minor": 4
}
