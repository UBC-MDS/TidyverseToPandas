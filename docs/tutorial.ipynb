{
 "cells": [
  {
   "cell_type": "markdown",
   "metadata": {},
   "source": [
    "# Tutorial: Palmer Penguins Dataset\n",
    "\n",
    "[short description]"
   ]
  },
  {
   "cell_type": "code",
   "execution_count": 6,
   "metadata": {},
   "outputs": [
    {
     "ename": "ModuleNotFoundError",
     "evalue": "No module named 'tidyversetopandas'",
     "output_type": "error",
     "traceback": [
      "\u001b[0;31m---------------------------------------------------------------------------\u001b[0m",
      "\u001b[0;31mModuleNotFoundError\u001b[0m                       Traceback (most recent call last)",
      "\u001b[1;32m/Users/lily/Desktop/MDS/DSCI_524/TidyverseToPandas/docs/tutorial.ipynb Cell 2\u001b[0m line \u001b[0;36m6\n\u001b[1;32m      <a href='vscode-notebook-cell:/Users/lily/Desktop/MDS/DSCI_524/TidyverseToPandas/docs/tutorial.ipynb#W1sZmlsZQ%3D%3D?line=2'>3</a>\u001b[0m \u001b[39mimport\u001b[39;00m \u001b[39msys\u001b[39;00m\n\u001b[1;32m      <a href='vscode-notebook-cell:/Users/lily/Desktop/MDS/DSCI_524/TidyverseToPandas/docs/tutorial.ipynb#W1sZmlsZQ%3D%3D?line=4'>5</a>\u001b[0m \u001b[39m# sys.path.append(\"src\")\u001b[39;00m\n\u001b[0;32m----> <a href='vscode-notebook-cell:/Users/lily/Desktop/MDS/DSCI_524/TidyverseToPandas/docs/tutorial.ipynb#W1sZmlsZQ%3D%3D?line=5'>6</a>\u001b[0m \u001b[39mimport\u001b[39;00m \u001b[39mtidyversetopandas\u001b[39;00m \u001b[39mas\u001b[39;00m \u001b[39mttp\u001b[39;00m\n\u001b[1;32m      <a href='vscode-notebook-cell:/Users/lily/Desktop/MDS/DSCI_524/TidyverseToPandas/docs/tutorial.ipynb#W1sZmlsZQ%3D%3D?line=6'>7</a>\u001b[0m penguins \u001b[39m=\u001b[39m pd\u001b[39m.\u001b[39mread_csv(\u001b[39m\"\u001b[39m\u001b[39mpenguins.csv\u001b[39m\u001b[39m\"\u001b[39m)\n",
      "\u001b[0;31mModuleNotFoundError\u001b[0m: No module named 'tidyversetopandas'"
     ]
    }
   ],
   "source": [
    "# Load Penguins dataset\n",
    "import pandas as pd\n",
    "import sys\n",
    "\n",
    "# sys.path.append(\"src\")\n",
    "from tidyversetopandas import tidyversetopandas as ttp\n",
    "penguins = pd.read_csv(\"penguins.csv\")"
   ]
  },
  {
   "cell_type": "markdown",
   "metadata": {},
   "source": [
    "## Remove NAs (filter)"
   ]
  },
  {
   "cell_type": "code",
   "execution_count": null,
   "metadata": {},
   "outputs": [],
   "source": []
  },
  {
   "cell_type": "markdown",
   "metadata": {},
   "source": [
    "## Filter species + other things (filter)"
   ]
  },
  {
   "cell_type": "markdown",
   "metadata": {},
   "source": [
    "## Add new column: BMI or smthg (mutate)"
   ]
  },
  {
   "cell_type": "markdown",
   "metadata": {},
   "source": [
    "## Select only some columns (select)"
   ]
  },
  {
   "cell_type": "markdown",
   "metadata": {},
   "source": [
    "## Sort the data on specific column (arrange)\n",
    "\n",
    "In Python, the sort function is `sort_values()`, which is under the package `pandas`. In the `tidyverse` package of R, however, the function is named `arrage()`. It takes in the whole dataset as the first parameter, and then the names of columns that the data will be sorted on.\n"
   ]
  },
  {
   "cell_type": "markdown",
   "metadata": {},
   "source": [
    "## Do everything with pipe (all the above)"
   ]
  }
 ],
 "metadata": {
  "kernelspec": {
   "display_name": "571",
   "language": "python",
   "name": "python3"
  },
  "language_info": {
   "codemirror_mode": {
    "name": "ipython",
    "version": 3
   },
   "file_extension": ".py",
   "mimetype": "text/x-python",
   "name": "python",
   "nbconvert_exporter": "python",
   "pygments_lexer": "ipython3",
   "version": "3.9.18"
  }
 },
 "nbformat": 4,
 "nbformat_minor": 2
}
