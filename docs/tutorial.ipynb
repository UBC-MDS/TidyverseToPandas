{
 "cells": [
  {
   "cell_type": "markdown",
   "metadata": {},
   "source": [
    "# Tutorial: Analyzing the Palmer Penguins Dataset with `tidyversetopandas`\n",
    "\n",
    "In this tutorial, we will explore the Palmer Penguins dataset using the tidyversetopandas package. This package simplifies data manipulation in Python by bringing R's tidyverse-like functionality to pandas. We'll demonstrate how to use its key functions: `select`, `mutate`, `filter`, and `arrange`."
   ]
  },
  {
   "cell_type": "markdown",
   "metadata": {},
   "source": [
    "### Loading the Palmer Penguins Dataset\n",
    "\n",
    "The Palmer Penguins dataset includes various measurements from three penguin species. It's ideal for demonstrating data manipulation techniques.\n",
    "\n",
    "First, let's load the dataset into a pandas DataFrame:"
   ]
  },
  {
   "cell_type": "code",
   "execution_count": 13,
   "metadata": {},
   "outputs": [
    {
     "name": "stdout",
     "output_type": "stream",
     "text": [
      "   rowid species     island  bill_length_mm  bill_depth_mm  flipper_length_mm  \\\n",
      "0      1  Adelie  Torgersen            39.1           18.7              181.0   \n",
      "1      2  Adelie  Torgersen            39.5           17.4              186.0   \n",
      "2      3  Adelie  Torgersen            40.3           18.0              195.0   \n",
      "3      4  Adelie  Torgersen             NaN            NaN                NaN   \n",
      "4      5  Adelie  Torgersen            36.7           19.3              193.0   \n",
      "\n",
      "   body_mass_g     sex  year  \n",
      "0       3750.0    male  2007  \n",
      "1       3800.0  female  2007  \n",
      "2       3250.0  female  2007  \n",
      "3          NaN     NaN  2007  \n",
      "4       3450.0  female  2007  \n"
     ]
    }
   ],
   "source": [
    "# Load Penguins dataset\n",
    "import pandas as pd\n",
    "from tidyversetopandas import tidyversetopandas as ttp\n",
    "\n",
    "penguins = pd.read_csv('penguins.csv')\n",
    "print(penguins.head())"
   ]
  },
  {
   "cell_type": "markdown",
   "metadata": {},
   "source": [
    "### Selecting Columns with select\n",
    "\n",
    "#### Example 1: Basic Column Selection\n",
    "\n",
    "Let's focus on a few relevant columns: species, island, and flipper length."
   ]
  },
  {
   "cell_type": "code",
   "execution_count": 14,
   "metadata": {},
   "outputs": [
    {
     "name": "stdout",
     "output_type": "stream",
     "text": [
      "  species     island  flipper_length_mm\n",
      "0  Adelie  Torgersen              181.0\n",
      "1  Adelie  Torgersen              186.0\n",
      "2  Adelie  Torgersen              195.0\n",
      "3  Adelie  Torgersen                NaN\n",
      "4  Adelie  Torgersen              193.0\n"
     ]
    }
   ],
   "source": [
    "# Selecting species, island, and flipper_length_mm columns\n",
    "penguins_subset = ttp.select(penguins, 'species', 'island', 'flipper_length_mm')\n",
    "print(penguins_subset.head())"
   ]
  },
  {
   "cell_type": "markdown",
   "metadata": {},
   "source": [
    "The output is a subset of the original penguins DataFrame, containing only the columns `species`, `island`, and `flipper_length_mm`.\n",
    "This subset displays the species and island of each penguin, along with the measurement of their flipper length in millimeters."
   ]
  },
  {
   "cell_type": "markdown",
   "metadata": {},
   "source": [
    "#### Example 2: Selecting Multiple Columns for Comparative Analysis\n",
    "\n",
    "For a more detailed comparative analysis, let's select columns that would provide insight into the physical characteristics of the penguins. We'll choose species, bill length, bill depth, and body mass."
   ]
  },
  {
   "cell_type": "code",
   "execution_count": 15,
   "metadata": {},
   "outputs": [
    {
     "name": "stdout",
     "output_type": "stream",
     "text": [
      "  species  bill_length_mm  bill_depth_mm  body_mass_g\n",
      "0  Adelie            39.1           18.7       3750.0\n",
      "1  Adelie            39.5           17.4       3800.0\n",
      "2  Adelie            40.3           18.0       3250.0\n",
      "3  Adelie             NaN            NaN          NaN\n",
      "4  Adelie            36.7           19.3       3450.0\n"
     ]
    }
   ],
   "source": [
    "# Selecting species, bill_length_mm, bill_depth_mm, and body_mass_g columns\n",
    "penguins_physical = ttp.select(penguins, 'species', 'bill_length_mm', 'bill_depth_mm', 'body_mass_g')\n",
    "print(penguins_physical.head())"
   ]
  },
  {
   "cell_type": "markdown",
   "metadata": {},
   "source": [
    "Here, the output is a DataFrame that includes a different set of columns: `species`, `bill_length_mm`, `bill_depth_mm`, and `body_mass_g`.\n",
    "This subset is intended for a more detailed comparative analysis, focusing on the physical characteristics of the penguins, such as bill length, bill depth, and body mass."
   ]
  },
  {
   "cell_type": "markdown",
   "metadata": {},
   "source": [
    "#### Example 3: Selecting columns with `.pipe()`\n",
    "Let's say we want to select the `species`, `island`, and `flipper_length_mm` columns from the penguins DataFrame using a piping approach."
   ]
  },
  {
   "cell_type": "code",
   "execution_count": 18,
   "metadata": {},
   "outputs": [
    {
     "name": "stdout",
     "output_type": "stream",
     "text": [
      "  species     island  flipper_length_mm\n",
      "0  Adelie  Torgersen              181.0\n",
      "1  Adelie  Torgersen              186.0\n",
      "2  Adelie  Torgersen              195.0\n",
      "3  Adelie  Torgersen                NaN\n",
      "4  Adelie  Torgersen              193.0\n"
     ]
    }
   ],
   "source": [
    "# Selecting species, island, and flipper_length_mm columns using `.pipe()`\n",
    "penguins_subset2 = penguins.pipe(ttp.select, 'species', 'island', 'flipper_length_mm')\n",
    "print(penguins_subset2.head())"
   ]
  },
  {
   "cell_type": "markdown",
   "metadata": {},
   "source": [
    "This output is identical to the first example and is achieved using pandas' `.pipe()` method. It shows the DataFrame after applying `ttp.select` within a pipeline. The same three columns (`species`, `island`, and `flipper_length_mm`) are included, focusing on the same aspects of the data."
   ]
  },
  {
   "cell_type": "markdown",
   "metadata": {},
   "source": []
  }
 ],
 "metadata": {
  "kernelspec": {
   "display_name": "tidyversetopandas",
   "language": "python",
   "name": "python3"
  },
  "language_info": {
   "codemirror_mode": {
    "name": "ipython",
    "version": 3
   },
   "file_extension": ".py",
   "mimetype": "text/x-python",
   "name": "python",
   "nbconvert_exporter": "python",
   "pygments_lexer": "ipython3",
   "version": "3.11.5"
  }
 },
 "nbformat": 4,
 "nbformat_minor": 2
}
